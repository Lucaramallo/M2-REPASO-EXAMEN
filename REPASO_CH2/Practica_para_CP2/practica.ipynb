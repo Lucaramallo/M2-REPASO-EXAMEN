{
 "cells": [
  {
   "attachments": {},
   "cell_type": "markdown",
   "metadata": {},
   "source": [
    "# Practiquemos para el CheckPoint Modulo 2\n",
    "\n",
    "![Pic](https://img.freepik.com/vector-gratis/icono-isometrico-tecnologia-informatica-sala-servidores-conjunto-dispositivos-digitales-elemento-diseno-computadora-portatil-pc_39422-1026.jpg?w=740&t=st=1675884734~exp=1675885334~hmac=f016d6a576614263e7ac80cc477af8cea31d280765e16388ca5858d4b595657e)"
   ]
  },
  {
   "attachments": {},
   "cell_type": "markdown",
   "metadata": {},
   "source": [
    "Marca verdadero o falso.\n",
    "\n",
    "1) La KPI es una métrica importante para evaluar el éxito de un negocio."
   ]
  },
  {
   "cell_type": "code",
   "execution_count": null,
   "metadata": {},
   "outputs": [],
   "source": [
    "verdadero"
   ]
  },
  {
   "attachments": {},
   "cell_type": "markdown",
   "metadata": {},
   "source": [
    "2) El LTV se refiere al costo de adquisición de un cliente."
   ]
  },
  {
   "cell_type": "code",
   "execution_count": null,
   "metadata": {},
   "outputs": [],
   "source": [
    "falso"
   ]
  },
  {
   "attachments": {},
   "cell_type": "markdown",
   "metadata": {},
   "source": [
    "3) El CAC es el costo total de adquirir un cliente."
   ]
  },
  {
   "cell_type": "code",
   "execution_count": null,
   "metadata": {},
   "outputs": [],
   "source": [
    "verdadero"
   ]
  },
  {
   "attachments": {},
   "cell_type": "markdown",
   "metadata": {},
   "source": [
    "4) La probabilidad de que un evento sea independiente de otro es 1. "
   ]
  },
  {
   "cell_type": "code",
   "execution_count": null,
   "metadata": {},
   "outputs": [],
   "source": [
    "falso"
   ]
  },
  {
   "attachments": {},
   "cell_type": "markdown",
   "metadata": {},
   "source": [
    "5) ¿Qué es el conversion rate?:  \n",
    "#a#- El porcentaje de visitas a un sitio web que resultan en una conversión  \n",
    "b- El costo total de adquirir un cliente  \n",
    "c- El costo por conversión"
   ]
  },
  {
   "attachments": {},
   "cell_type": "markdown",
   "metadata": {},
   "source": [
    "6) ¿Qué es el churn rate?:  \n",
    "#a#- El porcentaje de clientes que se van \n",
    "b- El porcentaje de clientes satisfechos con el producto \n",
    "c- El porcentaje de visitas a un sitio web que resultan en una conversión\n"
   ]
  },
  {
   "attachments": {},
   "cell_type": "markdown",
   "metadata": {},
   "source": [
    "7) ¿Cuál es el KPI a utilizar si una empresa de servicio de Streaming (Netflix, Prime Video, etc) quisiera saber si este mes tuvieron una baja tasa de cancelación de suscripciones?  \n",
    "a- LTV  \n",
    "b- CAC  \n",
    "c- Conversion rate  \n",
    "#d#- Churn Rate"
   ]
  },
  {
   "attachments": {},
   "cell_type": "markdown",
   "metadata": {},
   "source": [
    "### Ahora formulemos con Python las siguiente preguntas"
   ]
  },
  {
   "attachments": {},
   "cell_type": "markdown",
   "metadata": {},
   "source": [
    "8) Una moneda es lanzada 3 veces. ¿Cuál es la probabilidad de que salga cara en 3 ocasiones?"
   ]
  },
  {
   "cell_type": "code",
   "execution_count": 10,
   "metadata": {},
   "outputs": [
    {
     "data": {
      "text/plain": [
       "0.125"
      ]
     },
     "execution_count": 10,
     "metadata": {},
     "output_type": "execute_result"
    }
   ],
   "source": [
    "def funcion_binomial(k,n,p,grafico='desactivado'):\n",
    "  '''\n",
    "  k = casos de exito\n",
    "  \n",
    "  n = muestra representativa tomada\n",
    "  \n",
    "  p = probabilidad de exito\n",
    "\n",
    "\n",
    "  1. El experimento consiste en una serie de n ensayos idénticos.\n",
    "  2. En cada ensayo hay dos resultados posibles. \n",
    "  A uno de estos resultados se le llama éxito y al otro se le llama fracaso.\n",
    "  3. La probabilidad de éxito, que se denota p, no cambia de un ensayo a otro.\n",
    "  Por ende, la probabilidad de fracaso, que se denota 1 - p, tampoco cambia de un ensayo a otro.\n",
    "\n",
    "  4. Los ensayos son independientes.\n",
    "\n",
    "  5.Binario /booleano /si-No, \n",
    "  la decision de uno no condicsiona la del otro.\n",
    "\n",
    "  ej; #Probabilidad de obtener 3 caras en 5 lanzamientos y una probabilidad de éxito del 0.5.\n",
    "  print(funcion_binomial(3,5,0.5)) \n",
    "  0.3125\n",
    "\n",
    "  '''\n",
    "  from math import factorial\n",
    "  import matplotlib.pyplot as plt\n",
    "  from scipy import stats \n",
    "  import seaborn as sns\n",
    "  import numpy as np\n",
    "  \n",
    "  num_exitos = factorial(n) #Factorial de la cantidad de casos de éxito buscados.\n",
    "  num_eventos = factorial (k) * factorial(n-k) #Factorial del espacio muestral.\n",
    "  exitos_fracaso = pow(p,k) * pow(1-p,(n-k)) # Probabilidad de exitos y fracasos.\n",
    "\n",
    "  binomial = (num_exitos / num_eventos) * exitos_fracaso #Aplicación de la función binomial.\n",
    "\n",
    "  if grafico == 'activado':\n",
    "    N = n \n",
    "    p = p #parametros de forma \n",
    "    binomial_graf = stats.binom(N, p) # Distribución\n",
    "    x = np.arange(binomial_graf.ppf(0.01),\n",
    "                  binomial_graf.ppf(0.99))\n",
    "    fmp = binomial_graf.pmf(x) # Función de Masa de Probabilidad\n",
    "    plt.plot(x, fmp, '--') #Esta función recibe un conjunto de valores x e y y los muestra en el plano como puntos unidos por línea.\n",
    "    plt.vlines(x, 0, fmp, colors='b', lw=10, alpha=0.5) #Esta función da formato a las figuras.\n",
    "    plt.title('Distribución Binomial') #Esta función asigna un título.\n",
    "    plt.ylabel('probabilidad') #Esta función etiqueta el eje Y.\n",
    "    plt.xlabel('valores') #Esta función etiqueta el eje X.\n",
    "    plt.show() #Esta función muestra las figuras\n",
    "\n",
    "  return binomial\n",
    "\n",
    "funcion_binomial(3,3,0.5)"
   ]
  },
  {
   "attachments": {},
   "cell_type": "markdown",
   "metadata": {},
   "source": [
    "9) Una urna contiene 4 bolas blancas y 6 bolas negras. Si se eligen dos bolas al azar, ¿cuál es la probabilidad de que ambas sean blancas?"
   ]
  },
  {
   "cell_type": "code",
   "execution_count": 11,
   "metadata": {},
   "outputs": [
    {
     "data": {
      "text/plain": [
       "0.13333333333333333"
      ]
     },
     "execution_count": 11,
     "metadata": {},
     "output_type": "execute_result"
    }
   ],
   "source": [
    "\n",
    "def probabilidad_hipergeometrica(N,X,n,x,grafico='desactivado'):\n",
    "  '''\n",
    "  N = Población.\n",
    "\n",
    "  X = totalidad de eventos en toda la poblacion (N) que si cumplen la condición.\n",
    "  \n",
    "  n = Muestra seleccionada.\n",
    "  \n",
    "  x = Cantidad de eventos en la Muestra seleccionada (n) que cumplirían la condicion.\n",
    "    \n",
    "  Si en un grupo de X = (población), si tengo X = (los eventos que cumplen con esa condicion en la población)\n",
    "  ¿Cual es la probabilidad de que en una muestra = (n) tomada, haya x = (cantidad de eventos que cumplen con la condición en la muestra = (n))\n",
    "\n",
    "  P = rta.\n",
    "\n",
    "  También se responde x si o x no, pero la ocurrencia del primer evento afecta la del segundo.\n",
    "  Los ensayos no son independientes y la probabilidad de éxito varía de ensayo a ensayo. NO REPO!\n",
    "  \n",
    "  En un ensayo de hipergeométricas, el resultado de una observación es afectado por los resultados de las observaciones previas,\n",
    "  por tanto las probabilidades son condicionales.\n",
    "\n",
    "\n",
    "  '''\n",
    "  from math import factorial\n",
    "  import matplotlib.pyplot as plt\n",
    "  from scipy import stats \n",
    "  import seaborn as sns\n",
    "  import numpy as np\n",
    "\n",
    "  Xx = factorial(X)/(factorial(x)*factorial(X-x))\n",
    "  NX_nx= factorial(N-X)/(factorial(n-x)*factorial((N-X)-(n-x)))\n",
    "  Nn = factorial(N)/(factorial(n)*factorial(N-n))\n",
    "  hipergeometrica = (Xx * NX_nx)/Nn\n",
    "\n",
    "\n",
    "  if grafico == 'activado':\n",
    "    # Graficando Hipergeométrica\n",
    "    M, n, N = N, n, X # parametros de forma \n",
    "    hipergeometrica_graf = stats.hypergeom(M, n, N) # Distribución\n",
    "    x = np.arange(0, n+1)\n",
    "    fmp = hipergeometrica_graf.pmf(x) # Función de Masa de Probabilidad\n",
    "    plt.plot(x, fmp, '--')\n",
    "    plt.vlines(x, 0, fmp, colors='b', lw=5, alpha=0.5)\n",
    "    plt.title('Distribución Hipergeométrica')\n",
    "    plt.ylabel('probabilidad')\n",
    "    plt.xlabel('valores')\n",
    "    plt.show()\n",
    "\n",
    "  return hipergeometrica\n",
    "\n",
    "probabilidad_hipergeometrica(10,4,2,2)"
   ]
  },
  {
   "attachments": {},
   "cell_type": "markdown",
   "metadata": {},
   "source": [
    "10) Si tenemos 2 eventos A y B, y la probabilidad de A es de 0.6 y la probabilidad de B es de 0.7, ¿cuál es la probabilidad de que ambos eventos ocurran?"
   ]
  },
  {
   "cell_type": "code",
   "execution_count": 21,
   "metadata": {},
   "outputs": [
    {
     "name": "stdout",
     "output_type": "stream",
     "text": [
      "0.42\n"
     ]
    }
   ],
   "source": [
    "#prob_ab_DEPEND = print(0.6+0.7-1) # si son dependientes el uno del otro\n",
    "prob_ab_INDEPEND = print(0.6*0.7) # si son independientes el uno del otro\n"
   ]
  },
  {
   "attachments": {},
   "cell_type": "markdown",
   "metadata": {},
   "source": [
    "11) Si tenemos una urna con 4 bolas rojas y 6 bolas azules, ¿cuál es la probabilidad de seleccionar una bola roja y luego una bola azul?"
   ]
  },
  {
   "cell_type": "code",
   "execution_count": 15,
   "metadata": {},
   "outputs": [],
   "source": [
    "\n",
    "def probabilidad_hipergeometrica(N,X,n,x,grafico='desactivado'):\n",
    "  '''\n",
    "  N = Población.\n",
    "\n",
    "  X = totalidad de eventos en toda la poblacion (N) que si cumplen la condición.\n",
    "  \n",
    "  n = Muestra seleccionada.\n",
    "  \n",
    "  x = Cantidad de eventos en la Muestra seleccionada (n) que cumplirían la condicion.\n",
    "    \n",
    "  Si en un grupo de X = (población), si tengo X = (los eventos que cumplen con esa condicion en la población)\n",
    "  ¿Cual es la probabilidad de que en una muestra = (n) tomada, haya x = (cantidad de eventos que cumplen con la condición en la muestra = (n))\n",
    "\n",
    "  P = rta.\n",
    "\n",
    "  También se responde x si o x no, pero la ocurrencia del primer evento afecta la del segundo.\n",
    "  Los ensayos no son independientes y la probabilidad de éxito varía de ensayo a ensayo. NO REPO!\n",
    "  \n",
    "  En un ensayo de hipergeométricas, el resultado de una observación es afectado por los resultados de las observaciones previas,\n",
    "  por tanto las probabilidades son condicionales.\n",
    "\n",
    "\n",
    "  '''\n",
    "  from math import factorial\n",
    "  import matplotlib.pyplot as plt\n",
    "  from scipy import stats \n",
    "  import seaborn as sns\n",
    "  import numpy as np\n",
    "\n",
    "  Xx = factorial(X)/(factorial(x)*factorial(X-x))\n",
    "  NX_nx= factorial(N-X)/(factorial(n-x)*factorial((N-X)-(n-x)))\n",
    "  Nn = factorial(N)/(factorial(n)*factorial(N-n))\n",
    "  hipergeometrica = (Xx * NX_nx)/Nn\n",
    "\n",
    "\n",
    "  if grafico == 'activado':\n",
    "    # Graficando Hipergeométrica\n",
    "    M, n, N = N, n, X # parametros de forma \n",
    "    hipergeometrica_graf = stats.hypergeom(M, n, N) # Distribución\n",
    "    x = np.arange(0, n+1)\n",
    "    fmp = hipergeometrica_graf.pmf(x) # Función de Masa de Probabilidad\n",
    "    plt.plot(x, fmp, '--')\n",
    "    plt.vlines(x, 0, fmp, colors='b', lw=5, alpha=0.5)\n",
    "    plt.title('Distribución Hipergeométrica')\n",
    "    plt.ylabel('probabilidad')\n",
    "    plt.xlabel('valores')\n",
    "    plt.show()\n",
    "\n",
    "  return hipergeometrica\n",
    "roja1 = probabilidad_hipergeometrica(10,4,1,1) #roja"
   ]
  },
  {
   "cell_type": "code",
   "execution_count": 16,
   "metadata": {},
   "outputs": [],
   "source": [
    "azul2da = probabilidad_hipergeometrica(9,6,1,1)"
   ]
  },
  {
   "cell_type": "code",
   "execution_count": 18,
   "metadata": {},
   "outputs": [
    {
     "name": "stdout",
     "output_type": "stream",
     "text": [
      "0.26666666666666666\n"
     ]
    }
   ],
   "source": [
    "rta = roja1 * azul2da\n",
    "print(rta)\n",
    "#verificado ok! jujuu"
   ]
  },
  {
   "attachments": {},
   "cell_type": "markdown",
   "metadata": {},
   "source": [
    "### Consulta a la base de datos\n",
    "\n",
    "Recuerda poner las respuesta con la consulta de MySQL"
   ]
  },
  {
   "cell_type": "code",
   "execution_count": 1,
   "metadata": {},
   "outputs": [],
   "source": []
  },
  {
   "cell_type": "code",
   "execution_count": null,
   "metadata": {},
   "outputs": [],
   "source": []
  },
  {
   "attachments": {},
   "cell_type": "markdown",
   "metadata": {},
   "source": [
    "12) ¿Cuántos productos se vendieron en el último año?"
   ]
  },
  {
   "cell_type": "code",
   "execution_count": null,
   "metadata": {},
   "outputs": [],
   "source": []
  },
  {
   "attachments": {},
   "cell_type": "markdown",
   "metadata": {},
   "source": [
    "13) ¿Cuántos clientes han comprado más de 3 productos en los últimos 2 años?"
   ]
  },
  {
   "cell_type": "code",
   "execution_count": null,
   "metadata": {},
   "outputs": [],
   "source": []
  },
  {
   "attachments": {},
   "cell_type": "markdown",
   "metadata": {},
   "source": [
    "14) ¿Cuál es el promedio de los precios de los productos vendidos en los últimos 5 años?"
   ]
  },
  {
   "cell_type": "code",
   "execution_count": null,
   "metadata": {},
   "outputs": [],
   "source": []
  }
 ],
 "metadata": {
  "kernelspec": {
   "display_name": "Python 3",
   "language": "python",
   "name": "python3"
  },
  "language_info": {
   "codemirror_mode": {
    "name": "ipython",
    "version": 3
   },
   "file_extension": ".py",
   "mimetype": "text/x-python",
   "name": "python",
   "nbconvert_exporter": "python",
   "pygments_lexer": "ipython3",
   "version": "3.10.9"
  },
  "orig_nbformat": 4,
  "vscode": {
   "interpreter": {
    "hash": "957a0973b20c9ca410cb31745b8585db68510eafaadcea06bf68cd1027372551"
   }
  }
 },
 "nbformat": 4,
 "nbformat_minor": 2
}
